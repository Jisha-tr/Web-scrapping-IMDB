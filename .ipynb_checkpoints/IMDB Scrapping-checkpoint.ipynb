{
 "cells": [
  {
   "cell_type": "code",
   "execution_count": 19,
   "metadata": {},
   "outputs": [],
   "source": [
    "import pandas as pd\n",
    "import numpy as np\n",
    "\n",
    "import requests\n",
    "from requests import get\n",
    "from bs4 import BeautifulSoup\n",
    "\n",
    "from time import sleep\n",
    "from random import randint"
   ]
  },
  {
   "cell_type": "code",
   "execution_count": 20,
   "metadata": {},
   "outputs": [],
   "source": [
    "# Creating the lists we want to write into\n",
    "titles = []\n",
    "years = []\n",
    "time = []\n",
    "imdb_ratings = []\n",
    "metascores = []\n",
    "votes = []\n",
    "us_gross = []"
   ]
  },
  {
   "cell_type": "code",
   "execution_count": 21,
   "metadata": {},
   "outputs": [],
   "source": [
    "# Getting English translated titles from the movies\n",
    "headers = {'Accept-Language': 'en-US, en;q=0.5'}"
   ]
  },
  {
   "cell_type": "code",
   "execution_count": 22,
   "metadata": {},
   "outputs": [
    {
     "data": {
      "text/plain": [
       "array([  1,  51, 101, 151, 201, 251, 301, 351, 401, 451, 501, 551, 601,\n",
       "       651, 701, 751, 801, 851, 901, 951])"
      ]
     },
     "execution_count": 22,
     "metadata": {},
     "output_type": "execute_result"
    }
   ],
   "source": [
    "pages = np.arange(1, 1001, 50)\n",
    "pages"
   ]
  },
  {
   "cell_type": "code",
   "execution_count": null,
   "metadata": {},
   "outputs": [],
   "source": [
    "# Storing each of the urls of 50 movies \n",
    "for page in pages:\n",
    "    # Getting the contents from the each url\n",
    "    page = requests.get('https://www.imdb.com/search/title/?groups=top_1000&start=' + str(page) + '&ref_=adv_nxt', headers=headers)\n",
    "    soup = BeautifulSoup(page.text, 'html.parser')\n",
    "    \n",
    "    # Aiming the part of the html we want to get the information from\n",
    "    movie_div = soup.find_all('div', class_='lister-item mode-advanced')\n",
    "    \n",
    "    # Controling the loop’s rate by pausing the execution of the loop for a specified amount of time\n",
    "    # Waiting time between requests for a number between 2-10 seconds\n",
    "    sleep(randint(2,10))\n",
    "    \n",
    "    for container in movie_div:\n",
    "        # Scraping the movie's name\n",
    "        name = container.h3.a.text\n",
    "        titles.append(name)\n",
    "        \n",
    "        # Scraping the movie's year\n",
    "        year = container.h3.find('span', class_='lister-item-year').text\n",
    "        years.append(year)\n",
    "        \n",
    "        # Scraping the movie's length\n",
    "        runtime = container.find('span', class_='runtime').text if container.p.find('span', class_='runtime') else '-'\n",
    "        time.append(runtime)\n",
    "        \n",
    "        # Scraping the rating\n",
    "        imdb = float(container.strong.text)\n",
    "        imdb_ratings.append(imdb)\n",
    "        \n",
    "        # Scraping the metascore\n",
    "        m_score = container.find('span', class_='metascore').text if container.find('span', class_='metascore') else '-'\n",
    "        metascores.append(m_score)\n",
    "        \n",
    "        # Scraping votes and gross earnings\n",
    "        nv = container.find_all('span', attrs={'name':'nv'})\n",
    "        vote = nv[0].text\n",
    "        votes.append(vote)\n",
    "        grosses = nv[1].text if len(nv) > 1 else '-'\n",
    "        us_gross.append(grosses)"
   ]
  },
  {
   "cell_type": "code",
   "execution_count": null,
   "metadata": {},
   "outputs": [],
   "source": [
    "movies = pd.DataFrame({'movie':titles,\n",
    "                       'year':years,\n",
    "                       'time_minute':time,\n",
    "                       'imdb_rating':imdb_ratings,\n",
    "                       'metascore':metascores,\n",
    "                       'vote':votes,\n",
    "                       'gross_earning':us_gross})\n",
    "\n",
    "movies.head()"
   ]
  },
  {
   "cell_type": "code",
   "execution_count": 15,
   "metadata": {},
   "outputs": [],
   "source": [
    "movies.dtypes"
   ]
  },
  {
   "cell_type": "code",
   "execution_count": null,
   "metadata": {},
   "outputs": [],
   "source": []
  }
 ],
 "metadata": {
  "kernelspec": {
   "display_name": "Python 3",
   "language": "python",
   "name": "python3"
  },
  "language_info": {
   "codemirror_mode": {
    "name": "ipython",
    "version": 3
   },
   "file_extension": ".py",
   "mimetype": "text/x-python",
   "name": "python",
   "nbconvert_exporter": "python",
   "pygments_lexer": "ipython3",
   "version": "3.8.5"
  }
 },
 "nbformat": 4,
 "nbformat_minor": 4
}
